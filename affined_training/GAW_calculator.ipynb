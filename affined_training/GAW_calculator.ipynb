{
  "cells": [
    {
      "cell_type": "markdown",
      "metadata": {
        "id": "view-in-github",
        "colab_type": "text"
      },
      "source": [
        "<a href=\"https://colab.research.google.com/github/mahdi-darvish/COVID-19_Analysis_and_Visualization/blob/master/affined_training/GAW_calculator.ipynb\" target=\"_parent\"><img src=\"https://colab.research.google.com/assets/colab-badge.svg\" alt=\"Open In Colab\"/></a>"
      ]
    },
    {
      "cell_type": "code",
      "source": [
        "!gdown https://zenodo.org/record/6938457/files/training.zip\n"
      ],
      "metadata": {
        "id": "-ZKwVvvQY8Cb",
        "colab": {
          "base_uri": "https://localhost:8080/"
        },
        "outputId": "9f425da8-4b30-4f19-bc97-921a38789a2c"
      },
      "execution_count": 1,
      "outputs": [
        {
          "output_type": "stream",
          "name": "stdout",
          "text": [
            "Downloading...\n",
            "From: https://zenodo.org/record/6938457/files/training.zip\n",
            "To: /content/training.zip\n",
            "100% 555M/555M [04:20<00:00, 2.13MB/s]\n"
          ]
        }
      ]
    },
    {
      "cell_type": "code",
      "source": [
        "!mv training.zipy1h0ktiptmp training.zip\n",
        "!unzip training.zip\n",
        "!mkdir results\n",
        "!mkdir temp"
      ],
      "metadata": {
        "id": "osOIfLUkwFmO"
      },
      "execution_count": null,
      "outputs": []
    },
    {
      "cell_type": "code",
      "source": [
        "import cv2\n",
        "import numpy as np\n",
        "import matplotlib.pyplot as plt\n",
        "from google.colab.patches import cv2_imshow\n",
        "from math import sin, cos, radians, pi, sqrt, pow\n",
        "import json"
      ],
      "metadata": {
        "id": "fmnmknceguvd"
      },
      "execution_count": 3,
      "outputs": []
    },
    {
      "cell_type": "code",
      "source": [
        "def point_pos(p, a, flag=True):\n",
        "\n",
        "    d = - sqrt(pow((abs(p[0] - a[0])), 2) + pow((abs(p[1] - a[1])), 2)) / 3\n",
        "    theta_rad = pi/2 - radians(90)\n",
        "    middle_point_y = int(p[0] + d*cos(theta_rad))\n",
        "    middle_point_x = int(p[1] + d*sin(theta_rad))\n",
        "    if 0 <= middle_point_y <= 112 and 0 <= middle_point_x <= 112 and flag:\n",
        "      return middle_point_y, middle_point_x, True\n",
        "    else:\n",
        "      return int(p[0] + (d/5)*cos(theta_rad)), int(p[1] + (d/5)*sin(theta_rad)), False"
      ],
      "metadata": {
        "id": "irl1uJQRwnXI"
      },
      "execution_count": 4,
      "outputs": []
    },
    {
      "cell_type": "code",
      "source": [
        "!rm -rf results/*"
      ],
      "metadata": {
        "id": "iAJuyYrmLAjE"
      },
      "execution_count": 13,
      "outputs": []
    },
    {
      "cell_type": "code",
      "source": [
        "!rm -rf temp/*"
      ],
      "metadata": {
        "id": "3CE-X9aJBneM"
      },
      "execution_count": 14,
      "outputs": []
    },
    {
      "cell_type": "code",
      "source": [
        "for VIDEO_NUM in range(639):\n",
        "  try:\n",
        "    capture = cv2.VideoCapture('training/{}.mp4'.format(VIDEO_NUM))\n",
        "    frame_count = int(capture.get(cv2.CAP_PROP_FRAME_COUNT))\n",
        "    _, frame = capture.read()\n",
        "    cv2.imwrite('temp/{}.png'.format(VIDEO_NUM), frame)\n",
        "    img=cv2.imread('temp/{}.png'.format(VIDEO_NUM),cv2.IMREAD_COLOR)\n",
        "    f = open('training/{}.points'.format(VIDEO_NUM))\n",
        "  except:\n",
        "    pass"
      ],
      "metadata": {
        "id": "tbzmQ05o_6BA"
      },
      "execution_count": null,
      "outputs": []
    },
    {
      "cell_type": "code",
      "source": [
        "VIDEO_NUM = 1\n",
        "pixels_count = []\n",
        "vidcap = cv2.VideoCapture('training/{}_mask.mp4'.format(VIDEO_NUM))\n",
        "success,image = vidcap.read()\n",
        "count = 0\n",
        "while success:\n",
        "  cv2.imwrite(\"temp/video_{}_frame_{}_mask.png\".format(VIDEO_NUM, count), image)         \n",
        "  success,image = vidcap.read()\n",
        "  img=cv2.imread(\"temp/video_{}_frame_{}_mask.png\".format(VIDEO_NUM, count),cv2.IMREAD_COLOR)\n",
        "  f = open('training/{}.points'.format(VIDEO_NUM))\n",
        "    \n",
        "  data = json.load(f)\n",
        "  posterior_point = 0\n",
        "  anterior_point = 0\n",
        "  for point in data['rois']:\n",
        "      if point['z'] == 0 and point['id'] == 0:\n",
        "        posterior_point = point['pos']\n",
        "      elif point['z'] == 0 and point['id'] == 1:\n",
        "        anterior_point =point['pos']\n",
        "\n",
        "  f.close()\n",
        "  posterior_point = [ int(x) for x in posterior_point ]\n",
        "  anterior_point = [ int(x) for x in anterior_point ]\n",
        "  middle_point_y, middle_point_x, flag = point_pos(posterior_point, anterior_point)\n",
        "  img=cv2.imread(\"temp/video_{}_frame_{}_mask.png\".format(VIDEO_NUM, count),cv2.IMREAD_COLOR)\n",
        "  distance_between = (anterior_point[1] - posterior_point[1]) // 2\n",
        "  a_w, a_h = 112 - distance_between, 112\n",
        "  p_w, p_h = 112 + distance_between, 112\n",
        "  transformed_middle_point_y, transformed_middle_point_x, _ = point_pos([a_h, a_w], [p_h, p_w], flag)\n",
        "  src = cv2.imread(\"temp/video_{}_frame_{}_mask.png\".format(VIDEO_NUM, count))\n",
        "  srcTri = np.array([posterior_point, anterior_point, [middle_point_y, middle_point_x]]).astype(np.float32)\n",
        "  dstTri = np.array([[a_h, a_w], [p_h, p_w], [transformed_middle_point_y, transformed_middle_point_x]]).astype(np.float32)\n",
        "  warp_mat = cv2.getAffineTransform(srcTri, dstTri)\n",
        "  warp_dst = cv2.warpAffine(src, warp_mat, (224, 224))\n",
        "\n",
        "  white_pixels = 0\n",
        "  for i in range(src.shape[0]):\n",
        "      for j in range(src.shape[1]):\n",
        "          if (src[i][j] == [255, 255, 255]).all():\n",
        "              white_pixels += 1\n",
        "\n",
        "  pixels_count.append(white_pixels)\n",
        "  count += 1 "
      ],
      "metadata": {
        "id": "mgZV7rpahn2k"
      },
      "execution_count": 21,
      "outputs": []
    },
    {
      "cell_type": "code",
      "source": [
        "import matplotlib.pyplot as plt\n",
        "\n",
        "plt.plot(range(len(pixels_count)), pixels_count, '-o')\n",
        "plt.xlabel(\"Frame number\")\n",
        "plt.ylabel(\"White pixels count\")\n",
        "plt.show()"
      ],
      "metadata": {
        "colab": {
          "base_uri": "https://localhost:8080/",
          "height": 279
        },
        "id": "hFxzVKSmt3Hm",
        "outputId": "3fb57eea-1291-45e5-b397-ee6ad7e5f2b6"
      },
      "execution_count": 27,
      "outputs": [
        {
          "output_type": "display_data",
          "data": {
            "text/plain": [
              "<Figure size 432x288 with 1 Axes>"
            ],
            "image/png": "[encoded data removed]"
          },
          "metadata": {
            "needs_background": "light"
          }
        }
      ]
    }
  ],
  "metadata": {
    "colab": {
      "provenance": [],
      "include_colab_link": true
    },
    "kernelspec": {
      "display_name": "Python 3",
      "name": "python3"
    }
  },
  "nbformat": 4,
  "nbformat_minor": 0
}