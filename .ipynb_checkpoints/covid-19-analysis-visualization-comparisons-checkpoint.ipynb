{
 "cells": [
  {
   "cell_type": "markdown",
   "metadata": {},
   "source": [
    "### Acknowledgements\n",
    "\n",
    "> https://github.com/CSSEGISandData/COVID-19\n",
    "\n",
    "### Collection methodology\n",
    "\n",
    "> https://github.com/imdevskp/covid_19_jhu_data_web_scrap_and_cleaning\n",
    "\n",
    "### Disclaimer\n",
    "\n",
    "> * Data is from scrapped from JHU github repository. Any variation in the data there will also reflect in this notebook"
   ]
  },
  {
   "cell_type": "markdown",
   "metadata": {},
   "source": [
    "### Timeline"
   ]
  },
  {
   "cell_type": "code",
   "execution_count": 1,
   "metadata": {
    "_kg_hide-input": true,
    "_kg_hide-output": true
   },
   "outputs": [],
   "source": [
    "# from IPython.core.display import HTML"
   ]
  },
  {
   "cell_type": "code",
   "execution_count": 2,
   "metadata": {
    "_kg_hide-input": true
   },
   "outputs": [],
   "source": [
    "# HTML('''<div class=\"flourish-embed flourish-cards\" data-src=\"visualisation/1810417\" data-url=\"https://flo.uri.sh/visualisation/1810417/embed\"><script src=\"https://public.flourish.studio/resources/embed.js\"></script></div>''')"
   ]
  },
  {
   "cell_type": "markdown",
   "metadata": {},
   "source": [
    "### Ships that had passengers with COVID-19"
   ]
  },
  {
   "cell_type": "code",
   "execution_count": 3,
   "metadata": {
    "_kg_hide-input": true
   },
   "outputs": [],
   "source": [
    "# HTML('''<div class=\"flourish-embed flourish-cards\" data-src=\"visualisation/1816605\" data-url=\"https://flo.uri.sh/visualisation/1816605/embed\"><script src=\"https://public.flourish.studio/resources/embed.js\"></script></div>''')"
   ]
  },
  {
   "cell_type": "markdown",
   "metadata": {},
   "source": [
    "# Libraries"
   ]
  },
  {
   "cell_type": "markdown",
   "metadata": {},
   "source": [
    "### Install libraries"
   ]
  },
  {
   "cell_type": "code",
   "execution_count": 4,
   "metadata": {
    "_kg_hide-input": true,
    "_kg_hide-output": true
   },
   "outputs": [],
   "source": [
    "# get latest version of pip\n",
    "# !pip install --upgrade pip\n",
    "\n",
    "# for calender map\n",
    "# ! pip install calmap\n",
    "\n",
    "# to convert us statenames to state codes\n",
    "# ! pip install us\n",
    "\n",
    "# to get continent name from country name\n",
    "# ! pip install pycountry_convert"
   ]
  },
  {
   "cell_type": "markdown",
   "metadata": {},
   "source": [
    "### Load libraries"
   ]
  },
  {
   "cell_type": "code",
   "execution_count": 5,
   "metadata": {
    "_kg_hide-input": true
   },
   "outputs": [],
   "source": [
    "# math opeations\n",
    "# import math\n",
    "# produce random numbers\n",
    "# import random\n",
    "# to load json files\n",
    "import json\n",
    "# datetime oprations\n",
    "from datetime import timedelta\n",
    "# to get web contents\n",
    "from urllib.request import urlopen\n",
    "\n",
    "# for numerical analyiss\n",
    "import numpy as np\n",
    "# to store and process data in dataframe\n",
    "import pandas as pd"
   ]
  },
  {
   "cell_type": "code",
   "execution_count": 6,
   "metadata": {
    "_kg_hide-input": true
   },
   "outputs": [
    {
     "ename": "ModuleNotFoundError",
     "evalue": "No module named 'plotly'",
     "output_type": "error",
     "traceback": [
      "\u001b[1;31m---------------------------------------------------------------------------\u001b[0m",
      "\u001b[1;31mModuleNotFoundError\u001b[0m                       Traceback (most recent call last)",
      "\u001b[1;32m<ipython-input-6-30576ac6a5dd>\u001b[0m in \u001b[0;36m<module>\u001b[1;34m\u001b[0m\n\u001b[0;32m      5\u001b[0m \u001b[1;33m\u001b[0m\u001b[0m\n\u001b[0;32m      6\u001b[0m \u001b[1;31m# interactive visualization\u001b[0m\u001b[1;33m\u001b[0m\u001b[1;33m\u001b[0m\u001b[0m\n\u001b[1;32m----> 7\u001b[1;33m \u001b[1;32mimport\u001b[0m \u001b[0mplotly\u001b[0m\u001b[1;33m.\u001b[0m\u001b[0mexpress\u001b[0m \u001b[1;32mas\u001b[0m \u001b[0mpx\u001b[0m\u001b[1;33m\u001b[0m\u001b[0m\n\u001b[0m\u001b[0;32m      8\u001b[0m \u001b[1;32mimport\u001b[0m \u001b[0mplotly\u001b[0m\u001b[1;33m.\u001b[0m\u001b[0mgraph_objs\u001b[0m \u001b[1;32mas\u001b[0m \u001b[0mgo\u001b[0m\u001b[1;33m\u001b[0m\u001b[0m\n\u001b[0;32m      9\u001b[0m \u001b[1;31m# import plotly.figure_factory as ff\u001b[0m\u001b[1;33m\u001b[0m\u001b[1;33m\u001b[0m\u001b[0m\n",
      "\u001b[1;31mModuleNotFoundError\u001b[0m: No module named 'plotly'"
     ]
    }
   ],
   "source": [
    "# basic visualization package\n",
    "import matplotlib.pyplot as plt\n",
    "# advanced ploting\n",
    "import seaborn as sns\n",
    "\n",
    "# interactive visualization\n",
    "import plotly.express as px\n",
    "import plotly.graph_objs as go\n",
    "# import plotly.figure_factory as ff\n",
    "from plotly.subplots import make_subplots"
   ]
  },
  {
   "cell_type": "code",
   "execution_count": null,
   "metadata": {
    "_kg_hide-input": true
   },
   "outputs": [],
   "source": [
    "# for offline ploting\n",
    "from plotly.offline import plot, iplot, init_notebook_mode\n",
    "init_notebook_mode(connected=True)"
   ]
  },
  {
   "cell_type": "code",
   "execution_count": null,
   "metadata": {
    "_cell_guid": "b1076dfc-b9ad-4769-8c92-a6c4dae69d19",
    "_kg_hide-input": true,
    "_kg_hide-output": true,
    "_uuid": "8f2839f25d086af736a60e9eeb907d3b93b6e0e5"
   },
   "outputs": [],
   "source": [
    "# converter\n",
    "# from pandas.plotting import register_matplotlib_converters\n",
    "# register_matplotlib_converters()   \n",
    "\n",
    "# hide warnings\n",
    "import warnings\n",
    "warnings.filterwarnings('ignore')\n",
    "\n",
    "# to USA states details\n",
    "# import us"
   ]
  },
  {
   "cell_type": "markdown",
   "metadata": {},
   "source": [
    "### Color, theme, color palettes"
   ]
  },
  {
   "cell_type": "code",
   "execution_count": null,
   "metadata": {
    "_kg_hide-input": true
   },
   "outputs": [],
   "source": [
    "# color pallette\n",
    "cnf, dth, rec, act = '#393e46', '#ff2e63', '#21bf73', '#fe9801' \n",
    "\n",
    "# seaborn plot style\n",
    "# sns.set_style('darkgrid')"
   ]
  },
  {
   "cell_type": "markdown",
   "metadata": {},
   "source": [
    "# Dataset"
   ]
  },
  {
   "cell_type": "code",
   "execution_count": null,
   "metadata": {
    "_kg_hide-input": true,
    "_kg_hide-output": false
   },
   "outputs": [],
   "source": [
    "# list files\n",
    "# ==========\n",
    "\n",
    "# !ls ../input/corona-virus-report"
   ]
  },
  {
   "cell_type": "code",
   "execution_count": null,
   "metadata": {
    "_kg_hide-input": true
   },
   "outputs": [],
   "source": [
    "# Full data\n",
    "# =========\n",
    "\n",
    "full_table = pd.read_csv('../input/corona-virus-report/covid_19_clean_complete.csv')\n",
    "# full_table.head()"
   ]
  },
  {
   "cell_type": "code",
   "execution_count": null,
   "metadata": {
    "_kg_hide-input": true,
    "_kg_hide-output": true
   },
   "outputs": [],
   "source": [
    "# Grouped by day, country\n",
    "# =======================\n",
    "\n",
    "full_grouped = pd.read_csv('../input/corona-virus-report/full_grouped.csv')\n",
    "full_grouped['Date'] = pd.to_datetime(full_grouped['Date'])\n",
    "# full_grouped.head()"
   ]
  },
  {
   "cell_type": "code",
   "execution_count": null,
   "metadata": {
    "_kg_hide-input": true,
    "_kg_hide-output": true
   },
   "outputs": [],
   "source": [
    "# Day wise\n",
    "# ========\n",
    "\n",
    "day_wise = pd.read_csv('../input/corona-virus-report/day_wise.csv')\n",
    "day_wise['Date'] = pd.to_datetime(day_wise['Date'])\n",
    "# day_wise.head()"
   ]
  },
  {
   "cell_type": "code",
   "execution_count": null,
   "metadata": {
    "_kg_hide-input": true,
    "_kg_hide-output": true
   },
   "outputs": [],
   "source": [
    "# Country wise\n",
    "# ============\n",
    "\n",
    "country_wise = pd.read_csv('../input/corona-virus-report/country_wise_latest.csv')\n",
    "country_wise = country_wise.replace('', np.nan).fillna(0)\n",
    "# country_wise.head()"
   ]
  },
  {
   "cell_type": "code",
   "execution_count": null,
   "metadata": {
    "_kg_hide-input": true,
    "_kg_hide-output": true
   },
   "outputs": [],
   "source": [
    "# Worldometer data\n",
    "# ================\n",
    "\n",
    "worldometer_data = pd.read_csv('../input/corona-virus-report/worldometer_data.csv')\n",
    "worldometer_data = worldometer_data.replace('', np.nan).fillna(0)\n",
    "# worldometer_data.head()"
   ]
  },
  {
   "cell_type": "markdown",
   "metadata": {},
   "source": [
    "# Latest"
   ]
  },
  {
   "cell_type": "code",
   "execution_count": null,
   "metadata": {
    "_kg_hide-input": true
   },
   "outputs": [],
   "source": [
    "temp = day_wise[['Date','Deaths', 'Recovered', 'Active']].tail(1)\n",
    "temp = temp.melt(id_vars=\"Date\", value_vars=['Active', 'Deaths', 'Recovered'])\n",
    "fig = px.treemap(temp, path=[\"variable\"], values=\"value\", height=225, \n",
    "                 color_discrete_sequence=[act, rec, dth])\n",
    "fig.data[0].textinfo = 'label+text+value'\n",
    "fig.show()"
   ]
  },
  {
   "cell_type": "markdown",
   "metadata": {},
   "source": [
    "# Maps"
   ]
  },
  {
   "cell_type": "code",
   "execution_count": null,
   "metadata": {
    "_kg_hide-input": true
   },
   "outputs": [],
   "source": [
    "def plot_map(df, col, pal):\n",
    "    df = df[df[col]>0]\n",
    "    fig = px.choropleth(df, locations=\"Country/Region\", locationmode='country names', \n",
    "                  color=col, hover_name=\"Country/Region\", \n",
    "                  title=col, hover_data=[col], color_continuous_scale=pal)\n",
    "#     fig.update_layout(coloraxis_showscale=False)\n",
    "    fig.show()"
   ]
  },
  {
   "cell_type": "code",
   "execution_count": null,
   "metadata": {
    "_kg_hide-input": true
   },
   "outputs": [],
   "source": [
    "plot_map(country_wise, 'Confirmed', 'matter')"
   ]
  },
  {
   "cell_type": "code",
   "execution_count": null,
   "metadata": {
    "_kg_hide-input": true
   },
   "outputs": [],
   "source": [
    "plot_map(country_wise, 'Deaths', 'matter')"
   ]
  },
  {
   "cell_type": "code",
   "execution_count": null,
   "metadata": {
    "_kg_hide-input": true
   },
   "outputs": [],
   "source": [
    "plot_map(country_wise, 'Deaths / 100 Cases', 'matter')"
   ]
  },
  {
   "cell_type": "code",
   "execution_count": null,
   "metadata": {
    "_kg_hide-input": true
   },
   "outputs": [],
   "source": [
    "# Over the time\n",
    "\n",
    "fig = px.choropleth(full_grouped, locations=\"Country/Region\", \n",
    "                    color=np.log(full_grouped[\"Confirmed\"]),\n",
    "                    locationmode='country names', hover_name=\"Country/Region\", \n",
    "                    animation_frame=full_grouped[\"Date\"].dt.strftime('%Y-%m-%d'),\n",
    "                    title='Cases over time', color_continuous_scale=px.colors.sequential.matter)\n",
    "fig.update(layout_coloraxis_showscale=False)\n",
    "fig.show()"
   ]
  },
  {
   "cell_type": "markdown",
   "metadata": {},
   "source": [
    "# Cases over the time"
   ]
  },
  {
   "cell_type": "code",
   "execution_count": null,
   "metadata": {
    "_kg_hide-input": true
   },
   "outputs": [],
   "source": [
    "def plot_daywise(col, hue):\n",
    "    fig = px.bar(day_wise, x=\"Date\", y=col, width=700, color_discrete_sequence=[hue])\n",
    "    fig.update_layout(title=col, xaxis_title=\"\", yaxis_title=\"\")\n",
    "    fig.show()"
   ]
  },
  {
   "cell_type": "code",
   "execution_count": null,
   "metadata": {
    "_kg_hide-input": true
   },
   "outputs": [],
   "source": [
    "def plot_daywise_line(col, hue):\n",
    "    fig = px.line(day_wise, x=\"Date\", y=col, width=700, color_discrete_sequence=[hue])\n",
    "    fig.update_layout(title=col, xaxis_title=\"\", yaxis_title=\"\")\n",
    "    fig.show()"
   ]
  },
  {
   "cell_type": "code",
   "execution_count": null,
   "metadata": {
    "_kg_hide-input": true
   },
   "outputs": [],
   "source": [
    "temp = full_grouped.groupby('Date')['Recovered', 'Deaths', 'Active'].sum().reset_index()\n",
    "temp = temp.melt(id_vars=\"Date\", value_vars=['Recovered', 'Deaths', 'Active'],\n",
    "                 var_name='Case', value_name='Count')\n",
    "temp.head()\n",
    "\n",
    "fig = px.area(temp, x=\"Date\", y=\"Count\", color='Case', height=600, width=700,\n",
    "             title='Cases over time', color_discrete_sequence = [rec, dth, act])\n",
    "fig.update_layout(xaxis_rangeslider_visible=True)\n",
    "fig.show()"
   ]
  },
  {
   "cell_type": "code",
   "execution_count": null,
   "metadata": {
    "_kg_hide-input": true
   },
   "outputs": [],
   "source": [
    "plot_daywise('Confirmed', '#333333')"
   ]
  },
  {
   "cell_type": "code",
   "execution_count": null,
   "metadata": {
    "_kg_hide-input": true
   },
   "outputs": [],
   "source": [
    "plot_daywise('Active', '#333333')"
   ]
  },
  {
   "cell_type": "code",
   "execution_count": null,
   "metadata": {
    "_kg_hide-input": true
   },
   "outputs": [],
   "source": [
    "plot_daywise('New cases', '#333333')"
   ]
  },
  {
   "cell_type": "code",
   "execution_count": null,
   "metadata": {
    "_kg_hide-input": true
   },
   "outputs": [],
   "source": [
    "plot_daywise('Deaths', dth)"
   ]
  },
  {
   "cell_type": "code",
   "execution_count": null,
   "metadata": {
    "_kg_hide-input": true
   },
   "outputs": [],
   "source": [
    "plot_daywise('New deaths', dth)"
   ]
  },
  {
   "cell_type": "code",
   "execution_count": null,
   "metadata": {
    "_kg_hide-input": true
   },
   "outputs": [],
   "source": [
    "plot_daywise('Recovered', rec)"
   ]
  },
  {
   "cell_type": "code",
   "execution_count": null,
   "metadata": {
    "_kg_hide-input": true
   },
   "outputs": [],
   "source": [
    "plot_daywise('New recovered', rec)"
   ]
  },
  {
   "cell_type": "code",
   "execution_count": null,
   "metadata": {
    "_kg_hide-input": true
   },
   "outputs": [],
   "source": [
    "plot_daywise_line('Deaths / 100 Cases', dth)"
   ]
  },
  {
   "cell_type": "code",
   "execution_count": null,
   "metadata": {
    "_kg_hide-input": true
   },
   "outputs": [],
   "source": [
    "plot_daywise_line('Deaths / 100 Recovered', dth)"
   ]
  },
  {
   "cell_type": "code",
   "execution_count": null,
   "metadata": {
    "_kg_hide-input": true
   },
   "outputs": [],
   "source": [
    "plot_daywise_line('Recovered / 100 Cases', rec)"
   ]
  },
  {
   "cell_type": "code",
   "execution_count": null,
   "metadata": {
    "_kg_hide-input": true
   },
   "outputs": [],
   "source": [
    "plot_daywise('No. of countries', '#035aa6')"
   ]
  },
  {
   "cell_type": "code",
   "execution_count": null,
   "metadata": {
    "_kg_hide-input": true
   },
   "outputs": [],
   "source": [
    "temp = day_wise[['Date', 'Recovered', 'Active']]\n",
    "temp = temp.melt(id_vars='Date', value_vars=['Recovered', 'Active'], \n",
    "                 var_name='Variable', value_name='Count')\n",
    "px.line(temp, x='Date', y='Count', color='Variable')"
   ]
  },
  {
   "cell_type": "markdown",
   "metadata": {},
   "source": [
    "# Top 20 Countries"
   ]
  },
  {
   "cell_type": "code",
   "execution_count": null,
   "metadata": {
    "_kg_hide-input": true
   },
   "outputs": [],
   "source": [
    "def plot_hbar(df, col, n, hover_data=[]):\n",
    "    fig = px.bar(df.sort_values(col).tail(n), \n",
    "                 x=col, y=\"Country/Region\", color='WHO Region',  \n",
    "                 text=col, orientation='h', width=700, hover_data=hover_data,\n",
    "                 color_discrete_sequence = px.colors.qualitative.Dark2)\n",
    "    fig.update_layout(title=col, xaxis_title=\"\", yaxis_title=\"\", \n",
    "                      yaxis_categoryorder = 'total ascending',\n",
    "                      uniformtext_minsize=8, uniformtext_mode='hide')\n",
    "    fig.show()"
   ]
  },
  {
   "cell_type": "code",
   "execution_count": null,
   "metadata": {
    "_kg_hide-input": true
   },
   "outputs": [],
   "source": [
    "def plot_hbar_wm(col, n, min_pop=1000000, sort='descending'):\n",
    "    df = worldometer_data[worldometer_data['Population']>min_pop]\n",
    "    df = df.sort_values(col, ascending=True).tail(n)\n",
    "    fig = px.bar(df,\n",
    "                 x=col, y=\"Country/Region\", color='WHO Region',  \n",
    "                 text=col, orientation='h', width=700, \n",
    "                 color_discrete_sequence = px.colors.qualitative.Dark2)\n",
    "    fig.update_layout(title=col+' (Only countries with > 1M Pop)', \n",
    "                      xaxis_title=\"\", yaxis_title=\"\", \n",
    "                      yaxis_categoryorder = 'total ascending',\n",
    "                      uniformtext_minsize=8, uniformtext_mode='hide')\n",
    "    fig.show()"
   ]
  },
  {
   "cell_type": "code",
   "execution_count": null,
   "metadata": {
    "_kg_hide-input": true
   },
   "outputs": [],
   "source": [
    "plot_hbar(country_wise, 'Confirmed', 15)"
   ]
  },
  {
   "cell_type": "code",
   "execution_count": null,
   "metadata": {
    "_kg_hide-input": true
   },
   "outputs": [],
   "source": [
    "plot_hbar(country_wise, 'Active', 15)"
   ]
  },
  {
   "cell_type": "code",
   "execution_count": null,
   "metadata": {
    "_kg_hide-input": true
   },
   "outputs": [],
   "source": [
    "plot_hbar(country_wise, 'New cases', 15)"
   ]
  },
  {
   "cell_type": "code",
   "execution_count": null,
   "metadata": {
    "_kg_hide-input": true
   },
   "outputs": [],
   "source": [
    "plot_hbar(country_wise, 'Deaths', 15)"
   ]
  },
  {
   "cell_type": "code",
   "execution_count": null,
   "metadata": {
    "_kg_hide-input": true
   },
   "outputs": [],
   "source": [
    "plot_hbar(country_wise, 'New deaths', 15)"
   ]
  },
  {
   "cell_type": "code",
   "execution_count": null,
   "metadata": {
    "_kg_hide-input": true
   },
   "outputs": [],
   "source": [
    "plot_hbar(country_wise, 'Deaths / 100 Cases', 15)"
   ]
  },
  {
   "cell_type": "code",
   "execution_count": null,
   "metadata": {
    "_kg_hide-input": true
   },
   "outputs": [],
   "source": [
    "plot_hbar(country_wise, 'Recovered', 15)"
   ]
  },
  {
   "cell_type": "code",
   "execution_count": null,
   "metadata": {
    "_kg_hide-input": true
   },
   "outputs": [],
   "source": [
    "plot_hbar(country_wise, 'New recovered', 15)"
   ]
  },
  {
   "cell_type": "code",
   "execution_count": null,
   "metadata": {
    "_kg_hide-input": true
   },
   "outputs": [],
   "source": [
    "plot_hbar(country_wise, 'Recovered / 100 Cases', 15)"
   ]
  },
  {
   "cell_type": "code",
   "execution_count": null,
   "metadata": {
    "_kg_hide-input": true
   },
   "outputs": [],
   "source": [
    "plot_hbar(country_wise, '1 week change', 15)"
   ]
  },
  {
   "cell_type": "code",
   "execution_count": null,
   "metadata": {
    "_kg_hide-input": true
   },
   "outputs": [],
   "source": [
    "plot_hbar(country_wise, '1 week % increase', 15)"
   ]
  },
  {
   "cell_type": "code",
   "execution_count": null,
   "metadata": {
    "_kg_hide-input": true
   },
   "outputs": [],
   "source": [
    "plot_hbar_wm('Tot Cases/1M pop', 15, 1000000)"
   ]
  },
  {
   "cell_type": "code",
   "execution_count": null,
   "metadata": {
    "_kg_hide-input": true
   },
   "outputs": [],
   "source": [
    "plot_hbar_wm('Deaths/1M pop', 15, 1000000)"
   ]
  },
  {
   "cell_type": "code",
   "execution_count": null,
   "metadata": {
    "_kg_hide-input": true
   },
   "outputs": [],
   "source": [
    "plot_hbar_wm('TotalTests', 15, 1000000)"
   ]
  },
  {
   "cell_type": "code",
   "execution_count": null,
   "metadata": {
    "_kg_hide-input": true
   },
   "outputs": [],
   "source": [
    "plot_hbar_wm('Tests/1M pop', 15)"
   ]
  },
  {
   "cell_type": "markdown",
   "metadata": {},
   "source": [
    "# Date vs"
   ]
  },
  {
   "cell_type": "code",
   "execution_count": null,
   "metadata": {
    "_kg_hide-input": true
   },
   "outputs": [],
   "source": [
    "def plot_stacked(col):\n",
    "    fig = px.bar(full_grouped, x=\"Date\", y=col, color='Country/Region', \n",
    "                 height=600, title=col, \n",
    "                 color_discrete_sequence = px.colors.cyclical.mygbm)\n",
    "    fig.update_layout(showlegend=True)\n",
    "    fig.show()"
   ]
  },
  {
   "cell_type": "code",
   "execution_count": null,
   "metadata": {
    "_kg_hide-input": true
   },
   "outputs": [],
   "source": [
    "def plot_line(col):\n",
    "    fig = px.line(full_grouped, x=\"Date\", y=col, color='Country/Region', \n",
    "                  height=600, title=col, \n",
    "                  color_discrete_sequence = px.colors.cyclical.mygbm)\n",
    "    fig.update_layout(showlegend=True)\n",
    "    fig.show()"
   ]
  },
  {
   "cell_type": "code",
   "execution_count": null,
   "metadata": {
    "_kg_hide-input": true
   },
   "outputs": [],
   "source": [
    "plot_stacked('Confirmed')"
   ]
  },
  {
   "cell_type": "code",
   "execution_count": null,
   "metadata": {
    "_kg_hide-input": true
   },
   "outputs": [],
   "source": [
    "plot_stacked('Deaths')"
   ]
  },
  {
   "cell_type": "code",
   "execution_count": null,
   "metadata": {
    "_kg_hide-input": true
   },
   "outputs": [],
   "source": [
    "plot_stacked('New cases')"
   ]
  },
  {
   "cell_type": "code",
   "execution_count": null,
   "metadata": {},
   "outputs": [],
   "source": [
    "plot_stacked('Active')"
   ]
  },
  {
   "cell_type": "code",
   "execution_count": null,
   "metadata": {
    "_kg_hide-input": true
   },
   "outputs": [],
   "source": [
    "plot_line('Confirmed')"
   ]
  },
  {
   "cell_type": "code",
   "execution_count": null,
   "metadata": {
    "_kg_hide-input": true
   },
   "outputs": [],
   "source": [
    "plot_line('Deaths')"
   ]
  },
  {
   "cell_type": "code",
   "execution_count": null,
   "metadata": {
    "_kg_hide-input": true
   },
   "outputs": [],
   "source": [
    "plot_line('New cases')"
   ]
  },
  {
   "cell_type": "code",
   "execution_count": null,
   "metadata": {},
   "outputs": [],
   "source": [
    "plot_line('Active')"
   ]
  },
  {
   "cell_type": "code",
   "execution_count": null,
   "metadata": {
    "_kg_hide-input": true
   },
   "outputs": [],
   "source": [
    "temp = pd.merge(full_grouped[['Date', 'Country/Region', 'Confirmed', 'Deaths']], \n",
    "                day_wise[['Date', 'Confirmed', 'Deaths']], on='Date')\n",
    "temp['% Confirmed'] = round(temp['Confirmed_x']/temp['Confirmed_y'], 3)*100\n",
    "temp['% Deaths'] = round(temp['Deaths_x']/temp['Deaths_y'], 3)*100\n",
    "temp.head()"
   ]
  },
  {
   "cell_type": "code",
   "execution_count": null,
   "metadata": {
    "_kg_hide-input": true
   },
   "outputs": [],
   "source": [
    "fig = px.bar(temp, x='Date', y='% Confirmed', color='Country/Region', \n",
    "             range_y=(0, 100), title='% of Cases from each country', \n",
    "             color_discrete_sequence=px.colors.qualitative.Prism)\n",
    "fig.show()"
   ]
  },
  {
   "cell_type": "code",
   "execution_count": null,
   "metadata": {
    "_kg_hide-input": true
   },
   "outputs": [],
   "source": [
    "fig = px.bar(temp, x='Date', y='% Deaths', color='Country/Region', \n",
    "             range_y=(0, 100), title='% of Cases from each country', \n",
    "             color_discrete_sequence=px.colors.qualitative.Prism)\n",
    "fig.show()"
   ]
  },
  {
   "cell_type": "markdown",
   "metadata": {},
   "source": [
    "# Graph after 1M cases"
   ]
  },
  {
   "cell_type": "code",
   "execution_count": null,
   "metadata": {
    "_kg_hide-input": true
   },
   "outputs": [],
   "source": [
    "def gt_n(n):\n",
    "    countries = full_grouped[full_grouped['Confirmed']>n]['Country/Region'].unique()\n",
    "    temp = full_table[full_table['Country/Region'].isin(countries)]\n",
    "    temp = temp.groupby(['Country/Region', 'Date'])['Confirmed'].sum().reset_index()\n",
    "    temp = temp[temp['Confirmed']>n]\n",
    "    # print(temp.head())\n",
    "\n",
    "    min_date = temp.groupby('Country/Region')['Date'].min().reset_index()\n",
    "    min_date.columns = ['Country/Region', 'Min Date']\n",
    "    # print(min_date.head())\n",
    "\n",
    "    from_nth_case = pd.merge(temp, min_date, on='Country/Region')\n",
    "    from_nth_case['Date'] = pd.to_datetime(from_nth_case['Date'])\n",
    "    from_nth_case['Min Date'] = pd.to_datetime(from_nth_case['Min Date'])\n",
    "    from_nth_case['N days'] = (from_nth_case['Date'] - from_nth_case['Min Date']).dt.days\n",
    "    # print(from_nth_case.head())\n",
    "\n",
    "    fig = px.line(from_nth_case, x='N days', y='Confirmed', color='Country/Region', \n",
    "                  title='N days from '+str(n)+' case', height=600)\n",
    "    fig.show()"
   ]
  },
  {
   "cell_type": "code",
   "execution_count": null,
   "metadata": {
    "_kg_hide-input": true
   },
   "outputs": [],
   "source": [
    "gt_n(100000)"
   ]
  },
  {
   "cell_type": "markdown",
   "metadata": {},
   "source": [
    "# Confirmed vs Deaths"
   ]
  },
  {
   "cell_type": "code",
   "execution_count": null,
   "metadata": {
    "_kg_hide-input": true
   },
   "outputs": [],
   "source": [
    "fig = px.scatter(country_wise.sort_values('Deaths', ascending=False).iloc[:20, :], \n",
    "                 x='Confirmed', y='Deaths', color='Country/Region', size='Confirmed', \n",
    "                 height=700, text='Country/Region', log_x=True, log_y=True, \n",
    "                 title='Deaths vs Confirmed (Scale is in log10)')\n",
    "fig.update_traces(textposition='top center')\n",
    "fig.update_layout(showlegend=False)\n",
    "fig.update_layout(xaxis_rangeslider_visible=True)\n",
    "fig.show()"
   ]
  },
  {
   "cell_type": "markdown",
   "metadata": {},
   "source": [
    "# Composition of Cases"
   ]
  },
  {
   "cell_type": "code",
   "execution_count": null,
   "metadata": {},
   "outputs": [],
   "source": [
    "def plot_treemap(col):\n",
    "    fig = px.treemap(country_wise, path=[\"Country/Region\"], values=col, height=700,\n",
    "                 title=col, color_discrete_sequence = px.colors.qualitative.Dark2)\n",
    "    fig.data[0].textinfo = 'label+text+value'\n",
    "    fig.show()"
   ]
  },
  {
   "cell_type": "code",
   "execution_count": null,
   "metadata": {},
   "outputs": [],
   "source": [
    "plot_treemap('Confirmed')"
   ]
  },
  {
   "cell_type": "code",
   "execution_count": null,
   "metadata": {},
   "outputs": [],
   "source": [
    "plot_treemap('Deaths')"
   ]
  },
  {
   "cell_type": "markdown",
   "metadata": {},
   "source": [
    "# Bubble Plot"
   ]
  },
  {
   "cell_type": "code",
   "execution_count": null,
   "metadata": {
    "_kg_hide-input": true
   },
   "outputs": [],
   "source": [
    "def plot_bubble(col, pal):\n",
    "    temp = full_grouped[full_grouped[col]>0].sort_values('Country/Region', ascending=False)\n",
    "    fig = px.scatter(temp, x='Date', y='Country/Region', size=col, color=col, height=3000,\n",
    "                    color_continuous_scale=pal)\n",
    "    fig.update_layout(yaxis = dict(dtick = 1))\n",
    "    fig.update(layout_coloraxis_showscale=False)\n",
    "    fig.show()"
   ]
  },
  {
   "cell_type": "code",
   "execution_count": null,
   "metadata": {
    "_kg_hide-input": true
   },
   "outputs": [],
   "source": [
    "plot_bubble('New cases', 'Viridis')"
   ]
  },
  {
   "cell_type": "code",
   "execution_count": null,
   "metadata": {
    "_kg_hide-input": true
   },
   "outputs": [],
   "source": [
    "plot_bubble('Active', 'Viridis')"
   ]
  },
  {
   "cell_type": "markdown",
   "metadata": {},
   "source": [
    "# Epidemic Span"
   ]
  },
  {
   "cell_type": "code",
   "execution_count": null,
   "metadata": {
    "_kg_hide-input": true
   },
   "outputs": [],
   "source": [
    "temp = full_grouped[['Date', 'Country/Region', 'New cases']]\n",
    "temp['New cases reported ?'] = temp['New cases']!=0\n",
    "temp['New cases reported ?'] = temp['New cases reported ?'].astype(int)\n",
    "# temp.head()"
   ]
  },
  {
   "cell_type": "code",
   "execution_count": null,
   "metadata": {
    "_kg_hide-input": true
   },
   "outputs": [],
   "source": [
    "fig = go.Figure(data=go.Heatmap(\n",
    "        z=temp['New cases reported ?'],\n",
    "        x=temp['Date'],\n",
    "        y=temp['Country/Region'],\n",
    "        colorscale='Emrld',\n",
    "        showlegend=False,\n",
    "        text=temp['New cases reported ?']))\n",
    "\n",
    "fig.update_layout(yaxis = dict(dtick = 1))\n",
    "fig.update_layout(height=3000)\n",
    "fig.show()"
   ]
  },
  {
   "cell_type": "markdown",
   "metadata": {
    "_kg_hide-input": true
   },
   "source": [
    "# Running Bar Chart"
   ]
  },
  {
   "cell_type": "markdown",
   "metadata": {},
   "source": [
    "https://app.flourish.studio/visualisation/1571387/edit\n",
    "\n"
   ]
  },
  {
   "cell_type": "code",
   "execution_count": null,
   "metadata": {},
   "outputs": [],
   "source": [
    "# HTML('''<div class=\"flourish-embed flourish-bar-chart-race\" data-src=\"visualisation/1571387\"><script src=\"https://public.flourish.studio/resources/embed.js\"></script></div>''')"
   ]
  },
  {
   "cell_type": "markdown",
   "metadata": {},
   "source": [
    "# Country Wise"
   ]
  },
  {
   "cell_type": "code",
   "execution_count": null,
   "metadata": {
    "_kg_hide-input": true
   },
   "outputs": [],
   "source": [
    "# temp = full_table.groupby(['Country/Region', 'Date', ])['Confirmed', 'Deaths']\n",
    "# temp = temp.sum().diff().reset_index()\n",
    "\n",
    "# mask = temp['Country/Region'] != temp['Country/Region'].shift(1)\n",
    "\n",
    "# temp.loc[mask, 'Confirmed'] = np.nan\n",
    "# temp.loc[mask, 'Deaths'] = np.nan\n",
    "\n",
    "# countries = full_table[full_table['Confirmed']>100000]['Country/Region'].unique()\n",
    "\n",
    "# temp = temp[temp['Country/Region'].isin(countries)]\n",
    "\n",
    "\n",
    "# n_cols = 3\n",
    "# n_rows = math.ceil(len(countries)/n_cols)\n",
    "\n",
    "# fig = make_subplots(rows=n_rows, cols=n_cols, shared_xaxes=False, subplot_titles=countries)\n",
    "\n",
    "# for ind, country in enumerate(countries):\n",
    "#     row = int((ind/n_cols)+1)\n",
    "#     col = int((ind%n_cols)+1)\n",
    "#     fig.add_trace(go.Bar(x=temp['Date'], y=temp.loc[temp['Country/Region']==country, 'Confirmed'], name=country), row=row, col=col)\n",
    "    \n",
    "# fig.update_layout(height=4000, title_text=\"No. of new cases in each Country\")\n",
    "# fig.update_layout(showlegend=False)\n",
    "# fig.show()"
   ]
  },
  {
   "cell_type": "markdown",
   "metadata": {},
   "source": [
    "# Comparison with similar epidemics"
   ]
  },
  {
   "cell_type": "markdown",
   "metadata": {},
   "source": [
    "https://www.kaggle.com/imdevskp/covid19-vs-sars-vs-mers-vs-ebola-vs-h1n1\n",
    "\n"
   ]
  },
  {
   "cell_type": "markdown",
   "metadata": {},
   "source": [
    "# Analysis on similar pandemic/epidemic/outbreak"
   ]
  },
  {
   "cell_type": "markdown",
   "metadata": {},
   "source": [
    "https://www.kaggle.com/imdevskp/mers-outbreak-analysis  \n",
    "https://www.kaggle.com/imdevskp/sars-2003-outbreak-analysis  \n",
    "https://www.kaggle.com/imdevskp/western-africa-ebola-outbreak-analysis\n"
   ]
  },
  {
   "cell_type": "markdown",
   "metadata": {},
   "source": [
    "# USA"
   ]
  },
  {
   "cell_type": "code",
   "execution_count": null,
   "metadata": {},
   "outputs": [],
   "source": [
    "usa_df = pd.read_csv('../input/corona-virus-report/usa_county_wise.csv')\n",
    "usa_latest = usa_df[usa_df['Date'] == max(usa_df['Date'])]\n",
    "usa_grouped = usa_latest.groupby('Province_State')['Confirmed', 'Deaths'].sum().reset_index()"
   ]
  },
  {
   "cell_type": "code",
   "execution_count": null,
   "metadata": {
    "_kg_hide-input": true
   },
   "outputs": [],
   "source": [
    "us_code = {'Alabama': 'AL', 'Alaska': 'AK', 'American Samoa': 'AS', 'Arizona': 'AZ', 'Arkansas': 'AR', \n",
    "    'California': 'CA','Colorado': 'CO','Connecticut': 'CT','Delaware': 'DE', 'District of Columbia': 'DC', \n",
    "    'Florida': 'FL', 'Georgia': 'GA', 'Guam': 'GU', 'Hawaii': 'HI', 'Idaho': 'ID', 'Illinois': 'IL',\n",
    "    'Indiana': 'IN','Iowa': 'IA','Kansas': 'KS','Kentucky': 'KY','Louisiana': 'LA','Maine': 'ME',\n",
    "    'Maryland': 'MD','Massachusetts': 'MA','Michigan': 'MI','Minnesota': 'MN','Mississippi': 'MS',\n",
    "    'Missouri': 'MO','Montana': 'MT','Nebraska': 'NE','Nevada': 'NV','New Hampshire': 'NH', 'New Jersey': 'NJ',\n",
    "    'New Mexico': 'NM', 'New York': 'NY', 'North Carolina': 'NC', 'North Dakota': 'ND', 'Northern Mariana Islands':'MP',\n",
    "    'Ohio': 'OH', 'Oklahoma': 'OK', 'Oregon': 'OR', 'Pennsylvania': 'PA', 'Puerto Rico': 'PR',\n",
    "    'Rhode Island': 'RI', 'South Carolina': 'SC', 'South Dakota': 'SD', 'Tennessee': 'TN', 'Texas': 'TX',\n",
    "    'Utah': 'UT', 'Vermont': 'VT', 'Virgin Islands': 'VI', 'Virginia': 'VA', 'Washington': 'WA',\n",
    "    'West Virginia': 'WV', 'Wisconsin': 'WI', 'Wyoming': 'WY'}\n",
    "\n",
    "usa_grouped['Code'] = usa_grouped['Province_State'].map(us_code)"
   ]
  },
  {
   "cell_type": "code",
   "execution_count": null,
   "metadata": {},
   "outputs": [],
   "source": [
    "fig = px.choropleth(usa_grouped, color='Confirmed', locations='Code', locationmode=\"USA-states\", \n",
    "                    scope=\"usa\", color_continuous_scale=\"RdGy\", title='No. of cases in USA')\n",
    "fig"
   ]
  },
  {
   "cell_type": "code",
   "execution_count": null,
   "metadata": {},
   "outputs": [],
   "source": [
    "# with urlopen('https://raw.githubusercontent.com/plotly/datasets/master/geojson-counties-fips.json') as response:\n",
    "#     counties = json.load(response)\n",
    "\n",
    "# fig = px.choropleth(usa_latest, geojson=counties, locations='FIPS', color='Confirmed',\n",
    "#                            color_continuous_scale=\"Peach\",\n",
    "#                            scope=\"usa\",\n",
    "#                            labels={'Confirmed':'Confirmed'})\n",
    "# fig.update_layout(margin={\"r\":0,\"t\":0,\"l\":0,\"b\":0})\n",
    "# fig.show()"
   ]
  },
  {
   "cell_type": "markdown",
   "metadata": {},
   "source": [
    "# WHO Region Wise"
   ]
  },
  {
   "cell_type": "markdown",
   "metadata": {},
   "source": [
    "> *https://en.wikipedia.org/wiki/WHO_regions*"
   ]
  },
  {
   "cell_type": "code",
   "execution_count": null,
   "metadata": {
    "_kg_hide-input": true
   },
   "outputs": [],
   "source": [
    "who = country_wise.groupby('WHO Region')['Confirmed', 'Deaths', 'Recovered', 'Active',\n",
    "                                         'New cases', 'Confirmed last week'].sum().reset_index()\n",
    "who['Fatality Rate'] = round((who['Deaths'] / who['Confirmed']) * 100, 2)\n",
    "who['Recovery Rate'] = (who['Recovered'] / who['Confirmed']) * 100\n",
    "\n",
    "who_g = full_grouped.groupby(['WHO Region', 'Date'])['Confirmed', 'Deaths', 'Recovered', \n",
    "                                                     'Active','New cases', 'New deaths'].sum().reset_index()"
   ]
  },
  {
   "cell_type": "code",
   "execution_count": null,
   "metadata": {
    "_kg_hide-input": true
   },
   "outputs": [],
   "source": [
    "def plot_hbar(col, hover_data=[]):\n",
    "    fig = px.bar(who.sort_values(col), \n",
    "                 x=col, y=\"WHO Region\", color='WHO Region',  \n",
    "                 text=col, orientation='h', width=700, hover_data=hover_data,\n",
    "                 color_discrete_sequence = px.colors.qualitative.Dark2)\n",
    "    fig.update_layout(title=col, xaxis_title=\"\", yaxis_title=\"\", \n",
    "                      yaxis_categoryorder = 'total ascending',\n",
    "                      uniformtext_minsize=8, uniformtext_mode='hide')\n",
    "    fig.show()"
   ]
  },
  {
   "cell_type": "code",
   "execution_count": null,
   "metadata": {
    "_kg_hide-input": true
   },
   "outputs": [],
   "source": [
    "plot_hbar('Confirmed')"
   ]
  },
  {
   "cell_type": "code",
   "execution_count": null,
   "metadata": {
    "_kg_hide-input": true
   },
   "outputs": [],
   "source": [
    "plot_hbar('Deaths')"
   ]
  },
  {
   "cell_type": "code",
   "execution_count": null,
   "metadata": {
    "_kg_hide-input": true
   },
   "outputs": [],
   "source": [
    "plot_hbar('Fatality Rate')"
   ]
  },
  {
   "cell_type": "code",
   "execution_count": null,
   "metadata": {
    "_kg_hide-input": true
   },
   "outputs": [],
   "source": [
    "temp = worldometer_data[worldometer_data['WHO Region']!=0]"
   ]
  },
  {
   "cell_type": "code",
   "execution_count": null,
   "metadata": {
    "_kg_hide-input": true
   },
   "outputs": [],
   "source": [
    "fig = px.scatter(temp, x='TotalCases', y='TotalDeaths', color='WHO Region', \n",
    "                 height=700, hover_name='Country/Region', log_x=True, log_y=True, \n",
    "                 title='Confirmed vs Deaths',\n",
    "                 color_discrete_sequence=px.colors.qualitative.Vivid)\n",
    "fig.update_traces(textposition='top center')\n",
    "# fig.update_layout(showlegend=False)\n",
    "# fig.update_layout(xaxis_rangeslider_visible=True)\n",
    "fig.show()"
   ]
  },
  {
   "cell_type": "code",
   "execution_count": null,
   "metadata": {
    "_kg_hide-input": true
   },
   "outputs": [],
   "source": [
    "fig = px.scatter(temp, x='Population', y='TotalCases', color='WHO Region', \n",
    "                 height=700, hover_name='Country/Region', log_x=True, log_y=True, \n",
    "                 title='Population vs Confirmed',\n",
    "                 color_discrete_sequence=px.colors.qualitative.Vivid)\n",
    "fig.update_traces(textposition='top center')\n",
    "# fig.update_layout(showlegend=False)\n",
    "# fig.update_layout(xaxis_rangeslider_visible=True)\n",
    "fig.show()"
   ]
  },
  {
   "cell_type": "code",
   "execution_count": null,
   "metadata": {
    "_kg_hide-input": true
   },
   "outputs": [],
   "source": [
    "px.bar(who_g, x=\"Date\", y=\"Confirmed\", color='WHO Region', \n",
    "       height=600, title='Confirmed', \n",
    "       color_discrete_sequence=px.colors.qualitative.Vivid)"
   ]
  },
  {
   "cell_type": "code",
   "execution_count": null,
   "metadata": {
    "_kg_hide-input": true
   },
   "outputs": [],
   "source": [
    "px.bar(who_g, x=\"Date\", y=\"New cases\", color='WHO Region', \n",
    "       height=600, title='New cases', \n",
    "       color_discrete_sequence=px.colors.qualitative.Vivid)"
   ]
  },
  {
   "cell_type": "code",
   "execution_count": null,
   "metadata": {},
   "outputs": [],
   "source": [
    "px.box(worldometer_data, x='WHO Region', y='TotalCases', color='WHO Region',\n",
    "       title='Distribution of country wise no. of cases in different WHO Region')"
   ]
  },
  {
   "cell_type": "markdown",
   "metadata": {},
   "source": [
    "## Weekly Statistics"
   ]
  },
  {
   "cell_type": "code",
   "execution_count": null,
   "metadata": {
    "_kg_hide-input": true
   },
   "outputs": [],
   "source": [
    "full_grouped['Week No.'] = full_grouped['Date'].dt.strftime('%U')\n",
    "week_wise = full_grouped.groupby('Week No.')['Confirmed', 'Deaths', 'Recovered', 'Active', 'New cases', 'New deaths', 'New recovered'].sum().reset_index()"
   ]
  },
  {
   "cell_type": "code",
   "execution_count": null,
   "metadata": {
    "_kg_hide-input": true
   },
   "outputs": [],
   "source": [
    "def plot_weekwise(col, hue):\n",
    "    fig = px.bar(week_wise, x=\"Week No.\", y=col, width=700, color_discrete_sequence=[hue])\n",
    "    fig.update_layout(title=col, xaxis_title=\"\", yaxis_title=\"\")\n",
    "    fig.show()"
   ]
  },
  {
   "cell_type": "code",
   "execution_count": null,
   "metadata": {
    "_kg_hide-input": true
   },
   "outputs": [],
   "source": [
    "plot_weekwise('Confirmed', '#000000')"
   ]
  },
  {
   "cell_type": "code",
   "execution_count": null,
   "metadata": {
    "_kg_hide-input": true
   },
   "outputs": [],
   "source": [
    "plot_weekwise('Deaths', dth)"
   ]
  },
  {
   "cell_type": "code",
   "execution_count": null,
   "metadata": {
    "_kg_hide-input": true
   },
   "outputs": [],
   "source": [
    "plot_weekwise('New cases', '#cd6684')"
   ]
  },
  {
   "cell_type": "markdown",
   "metadata": {},
   "source": [
    "## Monthly statistics"
   ]
  },
  {
   "cell_type": "code",
   "execution_count": null,
   "metadata": {
    "_kg_hide-input": true
   },
   "outputs": [],
   "source": [
    "full_grouped['Month'] = pd.DatetimeIndex(full_grouped['Date']).month\n",
    "month_wise = full_grouped.groupby('Month')['Confirmed', 'Deaths', 'Recovered', 'Active', 'New cases', 'New deaths', 'New recovered'].sum().reset_index()"
   ]
  },
  {
   "cell_type": "code",
   "execution_count": null,
   "metadata": {
    "_kg_hide-input": true
   },
   "outputs": [],
   "source": [
    "def plot_monthwise(col, hue):\n",
    "    fig = px.bar(month_wise, x=\"Month\", y=col, width=700, color_discrete_sequence=[hue])\n",
    "    fig.update_layout(title=col, xaxis_title=\"\", yaxis_title=\"\")\n",
    "    fig.show()"
   ]
  },
  {
   "cell_type": "code",
   "execution_count": null,
   "metadata": {
    "_kg_hide-input": true
   },
   "outputs": [],
   "source": [
    "plot_monthwise('Confirmed', '#000000')"
   ]
  },
  {
   "cell_type": "code",
   "execution_count": null,
   "metadata": {
    "_kg_hide-input": true
   },
   "outputs": [],
   "source": [
    "plot_monthwise('Deaths', dth)"
   ]
  },
  {
   "cell_type": "code",
   "execution_count": null,
   "metadata": {
    "_kg_hide-input": true
   },
   "outputs": [],
   "source": [
    "plot_monthwise('New cases', '#cd6684')"
   ]
  },
  {
   "cell_type": "markdown",
   "metadata": {},
   "source": [
    "# Countries with no more active cases"
   ]
  },
  {
   "cell_type": "code",
   "execution_count": null,
   "metadata": {},
   "outputs": [],
   "source": [
    "temp = country_wise[country_wise['Active']==0]\n",
    "temp = temp.sort_values('Confirmed', ascending=False)\n",
    "temp.reset_index(drop=True)"
   ]
  },
  {
   "cell_type": "markdown",
   "metadata": {},
   "source": [
    "# Healthy life expectancy vs Deaths / 100 Cases"
   ]
  },
  {
   "cell_type": "code",
   "execution_count": null,
   "metadata": {},
   "outputs": [],
   "source": [
    "happiness_report = pd.read_csv('../input/world-happiness/2019.csv')\n",
    "happiness_report = happiness_report[['Country or region', 'Healthy life expectancy']]\n",
    "\n",
    "temp = country_wise.merge(happiness_report, left_on='Country/Region', right_on='Country or region')\n",
    "px.scatter(temp, y='Deaths / 100 Cases', x='Healthy life expectancy', color='WHO Region', hover_data=['Country/Region'])"
   ]
  }
 ],
 "metadata": {
  "kernelspec": {
   "display_name": "Python 3",
   "language": "python",
   "name": "python3"
  },
  "language_info": {
   "codemirror_mode": {
    "name": "ipython",
    "version": 3
   },
   "file_extension": ".py",
   "mimetype": "text/x-python",
   "name": "python",
   "nbconvert_exporter": "python",
   "pygments_lexer": "ipython3",
   "version": "3.7.0"
  }
 },
 "nbformat": 4,
 "nbformat_minor": 4
}
